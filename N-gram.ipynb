{
 "cells": [
  {
   "attachments": {},
   "cell_type": "markdown",
   "metadata": {},
   "source": [
    "<div class = \" container \"><h3>Assignment 1: Text generation using N-gram</h3></div>\n"
   ]
  },
  {
   "attachments": {},
   "cell_type": "markdown",
   "metadata": {},
   "source": [
    "<h5>import the libraries</h5>"
   ]
  },
  {
   "cell_type": "code",
   "execution_count": 1,
   "metadata": {},
   "outputs": [],
   "source": [
    "import random\n",
    "from collections import defaultdict\n",
    "import nltk\n",
    "from nltk.tokenize import wordpunct_tokenize\n",
    "from nltk import  tokenize\n",
    "import re\n"
   ]
  },
  {
   "attachments": {},
   "cell_type": "markdown",
   "metadata": {},
   "source": [
    "<h4>For a task one is make user gave the size of sentence and the word \n",
    "for the N-gram is optional for the user. </h4>\n",
    "<h5>Here the user must enter one word and the program will complete the sentence. </h5>"
   ]
  },
  {
   "cell_type": "code",
   "execution_count": 31,
   "metadata": {},
   "outputs": [],
   "source": [
    "file_path = ''\n",
    "with open('Corpus\\\\Corpus\\\\A\\E\\\\ae6.txt','r' , encoding='utf-8') as f:\n",
    "    text = f.read()\n",
    "    \n",
    "N_grams = 2"
   ]
  },
  {
   "cell_type": "code",
   "execution_count": 32,
   "metadata": {},
   "outputs": [],
   "source": [
    "model = defaultdict(lambda: defaultdict(int))\n",
    "tokens = nltk.word_tokenize(text)\n",
    "tokens = text.split()\n",
    "for i in range(len(tokens)-N_grams+1):\n",
    "    Before= tuple(tokens[i:i+N_grams-1])\n",
    "    Next = tokens[i+N_grams-1] \n",
    "    model[Before][Next] += 1"
   ]
  },
  {
   "cell_type": "code",
   "execution_count": 33,
   "metadata": {},
   "outputs": [
    {
     "data": {
      "text/plain": [
       "(6264, 2212)"
      ]
     },
     "execution_count": 33,
     "metadata": {},
     "output_type": "execute_result"
    }
   ],
   "source": [
    "len(tokens), len(model)\n",
    "\n"
   ]
  },
  {
   "cell_type": "code",
   "execution_count": 35,
   "metadata": {},
   "outputs": [
    {
     "name": "stdout",
     "output_type": "stream",
     "text": [
      "the word that you enter  أحمده\n",
      "numer of sentence : 5\n",
      "أحمده كما ينبغي لكريم وجهه وعظيم\n"
     ]
    }
   ],
   "source": [
    "start = input(\"enter your word : \")\n",
    "length = int(input(\"number of words in  a sentence : \"))\n",
    "result = start.split()\n",
    "print(\"the word that you enter \",start)\n",
    "print(\"numer of sentence :\",length)\n",
    "for i in range(length):\n",
    "    Before = tuple(result[-N_grams+1:])\n",
    "    if Before in model:\n",
    "\n",
    "        next_word = max(model[Before], key=model[Before].get)\n",
    "    else:\n",
    "\n",
    "        next_word = random.choice(list(model.keys()))[0]\n",
    "    result.append(next_word)\n",
    "\n",
    "print(' '.join(result))"
   ]
  },
  {
   "attachments": {},
   "cell_type": "markdown",
   "metadata": {},
   "source": [
    "<h8>second output: </h8>\n",
    "\n",
    "<img src=\"Screenshot_5.png\">\n",
    "\n",
    "<h8>thrid output: </h8>\n",
    "\n",
    "<img src=\"Screenshot_9.png\">"
   ]
  },
  {
   "attachments": {},
   "cell_type": "markdown",
   "metadata": {},
   "source": [
    "<h5>For task two  to do 10 high frequent (trigram) in the corpus in a text file </h5>\n",
    "<p>the program do 3-gram and the high 10 frequent</p>"
   ]
  },
  {
   "cell_type": "code",
   "execution_count": 127,
   "metadata": {},
   "outputs": [],
   "source": [
    "with open('Corpus\\Corpus\\C\\B\\cb1.txt',encoding='utf-8') as f:\n",
    "    text = f.read()\n",
    "\n",
    "N3 =  3"
   ]
  },
  {
   "cell_type": "code",
   "execution_count": 128,
   "metadata": {},
   "outputs": [
    {
     "name": "stdout",
     "output_type": "stream",
     "text": [
      "44326\n",
      "وكيف كان ذلك: 34\n",
      "كان ذلك قال: 30\n",
      "قال دبشليم الملك: 14\n",
      "دبشليم الملك لبيدبا: 14\n",
      "الملك لبيدبا الفيلسوف: 14\n",
      "ضربت لك هذا: 13\n",
      "لك هذا المثل: 13\n",
      "قال ابن آوى: 13\n",
      "لبيدبا الفيلسوف قد: 13\n",
      "وإنما ضربت لك: 12\n"
     ]
    }
   ],
   "source": [
    "words = re.findall('\\w+',text.lower())\n",
    "print(len(words))\n",
    "\n",
    "trigrams =[(words[i:i+N3] , words[i+N3]) for i in range(len(words)-N3)]\n",
    "\n",
    "freq={}\n",
    "for trigram,word in trigrams:\n",
    "    keys = ' '.join(trigram)\n",
    "    if keys in freq:\n",
    "        freq[keys][word] = freq[keys].get(word, 0) + 1\n",
    "    else:\n",
    "        freq[keys] = {word: 1}\n",
    "\n",
    "sorted_trigrams = sorted(freq.items(), key=lambda x: sum(x[1].values()), reverse=True)\n",
    "\n",
    "\n",
    "for trigram, counts in sorted_trigrams[:10]:\n",
    "    print(f\"{trigram}: {sum(counts.values())}\")       \n"
   ]
  },
  {
   "attachments": {},
   "cell_type": "markdown",
   "metadata": {},
   "source": [
    " <h8>Second Output</h8>\n",
    " \n",
    " <img src=\"Screenshot_7.png\" >\n",
    "  \n",
    "<h8>Third Output</h8>\n",
    " \n",
    " <img src=\"Screenshot_8.png\" >"
   ]
  }
 ],
 "metadata": {
  "kernelspec": {
   "display_name": "Python 3",
   "language": "python",
   "name": "python3"
  },
  "language_info": {
   "codemirror_mode": {
    "name": "ipython",
    "version": 3
   },
   "file_extension": ".py",
   "mimetype": "text/x-python",
   "name": "python",
   "nbconvert_exporter": "python",
   "pygments_lexer": "ipython3",
   "version": "3.9.7"
  }
 },
 "nbformat": 4,
 "nbformat_minor": 2
}
